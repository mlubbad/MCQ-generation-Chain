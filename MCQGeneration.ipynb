{
 "cells": [
  {
   "cell_type": "code",
   "execution_count": 31,
   "id": "488a7aa8",
   "metadata": {},
   "outputs": [
    {
     "name": "stdout",
     "output_type": "stream",
     "text": [
      "回答结果: \n",
      "\n",
      "\n",
      "\n",
      "\u001b[1m> Entering new AgentExecutor chain...\u001b[0m\n",
      "\u001b[32;1m\u001b[1;3m这类问题通常涉及到基础的数学知识，常见的题型包括但不限于：物品的购买问题、速度和时间的问题、年龄问题、工作量问题等。这些问题的解法通常涉及到建立一个或多个方程来解决实际问题。我需要搜索一些具体的例题来更好地回答这个问题。\n",
      "Action: Search\n",
      "Action Input: 中小学简易方程应用题典型例题\u001b[0m\n",
      "Observation: \u001b[36;1m\u001b[1;3m['【解题思路和方法】 简单的题目可以直接套用公式；复杂的题目变通后再用公式。 示例甲乙两班共有学生98人，甲班比乙班多6人，求两班各有多少人？ 解甲 ...', '【解题思路和方法】 简单的题目可以直接套用公式；复杂的题目变通后再用公式。 例1 、甲乙两班共有学生98人，甲班比乙班多6人，求两班各有多少人？', '小学数学中把含有数量关系的实际问题用语言或文字叙述出来，这样所形成的题目叫做应用题。任何一道应用题都由两部分构成。第一部分是已知条件（简称条件） ...', '小学1-6年级奥数题及答案每日一练2022.7.1（每日都做养成好习惯）-283; 小学五年级下册数学暑假天天练习（第一周习题）-441; 小学数学典型应用题（牛吃 ...', '二、以总量为等量关系建立方程例题甲、乙两个粮仓一共有粮6800包，甲是乙的3倍，两仓各有多少包? 解设：乙仓有粮X包，那么甲仓有粮3X包甲粮仓的包数+乙粮仓的包数=总共 ...', '小学数学30种典型应用题讲解 · 1、审题，明白题目是什么意思，根据条件找数量关系 · 2、列式解答，可以用方程，也可以用算术 · 3、最后做答.', '新增加一些代数初步知识，如不等式，用字母表示数，求代数式的值，简易方程，列方程解应用题等。 ... 应用题教学是小学数学教学中的重点和难点，在小学数学中占有十分重要的 ...', 'a 审题理解题意：了解应用题的内容，知道应用题的条件和问题。读题时，不丢字不添字边读边思考，弄明白题中每句话的意思。也可以复述条件和问题，帮助理解 ...', '... 题目中的已知条件，按照等量关系列出方程。?（4）解；求出所列方程的解 ... 小学数学最典型的30道应用题：定义数量关系例题详解 · 期中考试，小学数学 ...', '2016-08-08·小学四年级方程解应用题知识点及例题解析; 2016-08-02·三年级奥数简单方程应用题知识点; 2016-07-26·小学五年级奥数方程法解行程问题知识点讲解; 2016-06-23 ...']\u001b[0m\n",
      "Thought:\u001b[32;1m\u001b[1;3m在搜索结果中，我发现了几个典型的简易方程应用题例题，以及一些解题思路和方法的描述。常见题型包括：学生人数问题、粮仓存粮问题等。接下来，我将总结几个典型的题型和对应的例题。\n",
      "\n",
      "Final Answer:\n",
      "简易方程的典型应用题主要包括以下几种题型：\n",
      "\n",
      "1. 学生人数问题：例如，“甲乙两班共有学生98人，甲班比乙班多6人，求两班各有多少人？”这类问题通常通过建立方程来解决，如设乙班有x人，则甲班有x+6人，建立方程x + (x+6) = 98解之。\n",
      "\n",
      "2. 粮仓存粮问题：例如，“甲、乙两个粮仓一共有粮6800包，甲是乙的3倍，两仓各有多少包？”这类问题可以通过设乙仓有x包粮食，那么甲仓有3x包，建立方程x + 3x = 6800来求解。\n",
      "\n",
      "这些题型的解题思路通常包括：审题明白题意，找出数量关系；列式解答，可以用方程也可以用算术；最后解方程得出答案。通过这些步骤，学生可以有效地解决简易方程的应用题。\u001b[0m\n",
      "\n",
      "\u001b[1m> Finished chain.\u001b[0m\n",
      "简易方程的典型应用题主要包括以下几种题型：\n",
      "\n",
      "1. 学生人数问题：例如，“甲乙两班共有学生98人，甲班比乙班多6人，求两班各有多少人？”这类问题通常通过建立方程来解决，如设乙班有x人，则甲班有x+6人，建立方程x + (x+6) = 98解之。\n",
      "\n",
      "2. 粮仓存粮问题：例如，“甲、乙两个粮仓一共有粮6800包，甲是乙的3倍，两仓各有多少包？”这类问题可以通过设乙仓有x包粮食，那么甲仓有3x包，建立方程x + 3x = 6800来求解。\n",
      "\n",
      "这些题型的解题思路通常包括：审题明白题意，找出数量关系；列式解答，可以用方程也可以用算术；最后解方程得出答案。通过这些步骤，学生可以有效地解决简易方程的应用题。\n"
     ]
    }
   ],
   "source": [
    "from langchain.agents import load_tools, AgentType\n",
    "from langchain.agents import initialize_agent\n",
    "from langchain.chat_models import ChatOpenAI\n",
    "from langchain import PromptTemplate\n",
    "import os\n",
    "knowledge=\"简易方程\"\n",
    "os.environ[\"SERPAPI_API_KEY\"] = \"PUT YOUR SERPAPI_API_KEY HERE\"\n",
    "os.environ[\"OPENAI_API_KEY\"] = \"PUT YOUR OPENAI-API-KEY available to GPT4 HERE\"\n",
    "# llm\n",
    "openai_api_key = os.environ[\"OPENAI_API_KEY\"]\n",
    "llm = ChatOpenAI(temperature=0.5, openai_api_key=openai_api_key, model_name=\"gpt-4-turbo-preview\")\n",
    "# 谷歌搜索 key\n",
    "serpapi_api_key = os.environ[\"SERPAPI_API_KEY\"]\n",
    "toolkit = load_tools([\"serpapi\"], llm=llm, serpapi_api_key=serpapi_api_key)\n",
    "agent = initialize_agent(\n",
    "    tools=toolkit,\n",
    "    llm=llm,\n",
    "    agent=AgentType.ZERO_SHOT_REACT_DESCRIPTION,\n",
    "    verbose=True\n",
    ")\n",
    "\n",
    "template = \"{value}，请使用中文回答\"\n",
    "prompt = PromptTemplate(\n",
    "    input_variables=[\"value\"],\n",
    "    template=template,\n",
    ")\n",
    "\n",
    "questions=f\"请帮我找几道中小学{knowledge}的典型应用题，并总结一下常见题型\"\n",
    "print(\"回答结果: \\n\")\n",
    "res = agent.run(prompt.format(value=questions))\n",
    "print(res)\n"
   ]
  },
  {
   "cell_type": "code",
   "execution_count": 32,
   "id": "590b93d1",
   "metadata": {
    "scrolled": true
   },
   "outputs": [
    {
     "name": "stdout",
     "output_type": "stream",
     "text": [
      "{'question_contents': ['在一次学校运动会上，男生和女生共参加了100米赛跑项目。如果女生人数是男生的2倍，而且总共有90人参加，那么男生和女生各有多少人参加了100米赛跑？', '小明和小红的储蓄罐里一共有360元。如果小明的钱是小红的3倍，那么小明和小红各有多少钱在他们的储蓄罐里？', '一个家庭在周末计划去超市购物，他们计划购买水果和蔬菜。如果水果的总价是蔬菜的4倍，而且他们一共花了500元，那么水果和蔬菜各花了多少钱？']}\n"
     ]
    }
   ],
   "source": [
    "from typing import List\n",
    "from langchain.prompts import PromptTemplate\n",
    "from langchain_core.output_parsers import JsonOutputParser\n",
    "from langchain_core.pydantic_v1 import BaseModel, Field\n",
    "from langchain_openai import ChatOpenAI\n",
    "\n",
    "model = ChatOpenAI(temperature=0.5,model_name=\"gpt-4-turbo-preview\")\n",
    "\n",
    "\n",
    "# 定义输出格式为问题列表\n",
    "class QuestionList(BaseModel):\n",
    "    question_contents: List[str] = Field(description=\"list of question contents\")\n",
    "\n",
    "# Set up a parser + inject instructions into the prompt template.\n",
    "parser = JsonOutputParser(pydantic_object=QuestionList)\n",
    "\n",
    "template = \"\"\"你是一名数学教研专家，需要编写一些适合小学同学练习的数学题,{format_instructions}\n",
    "             我需要你为我编写 {cnt} 个关于 {knowledge}知识的问题, \n",
    "             参考现有的题目{res}，\n",
    "             难度为 {difficulty}，{otherRestriction}，只需要给出问题即可\"\"\"\n",
    "prompt = PromptTemplate(\n",
    "    template=template, \n",
    "    input_variables=[\"cnt\", \"knowledge\",\"difficulty\",\"otherRestriction\",\"res\"],\n",
    "    partial_variables={\"format_instructions\": parser.get_format_instructions()},\n",
    ")\n",
    "\n",
    "chain = prompt | model | parser\n",
    "\n",
    "ans=chain.invoke({\"cnt\":3,\n",
    "                  \"knowledge\":knowledge,\n",
    "                  \"difficulty\":\"简单\",\n",
    "                  \"otherRestriction\":\"你需要为题目编一个完整、有教育意义的故事背景，创设的题目需要以生活中真实发生的问题为背景，使用在生活中会真实出现的数字，问题是要解决生活中实际出现的问题\",\n",
    "                  \"res\":res})\n",
    "print(ans)"
   ]
  },
  {
   "cell_type": "code",
   "execution_count": 34,
   "id": "3faa8278",
   "metadata": {},
   "outputs": [
    {
     "name": "stdout",
     "output_type": "stream",
     "text": [
      "\n",
      "\n",
      "\u001b[1m> Entering new AgentExecutor chain...\u001b[0m\n",
      "\u001b[32;1m\u001b[1;3mTo solve this problem, we can set up the equation based on the given information. Let x be the number of boys. Since the number of girls is twice the number of boys, we can represent the number of girls as 2x. The total number of participants is 90, so the equation to represent this situation is x + 2x = 90. Simplifying this equation will give us the number of boys (x), and then we can easily find the number of girls (2x).\n",
      "\n",
      "Action: Calculator\n",
      "Action Input: (90 / 3)\u001b[0m\n",
      "Observation: \u001b[33;1m\u001b[1;3mAnswer: 30.0\u001b[0m\n",
      "Thought:\u001b[32;1m\u001b[1;3mI now know the number of boys is 30. To find the number of girls, I can multiply the number of boys by 2.\n",
      "\n",
      "Action: Calculator\n",
      "Action Input: 30 * 2\u001b[0m\n",
      "Observation: \u001b[33;1m\u001b[1;3mAnswer: 60\u001b[0m\n",
      "Thought:\u001b[32;1m\u001b[1;3mI now know the final answer.\n",
      "Final Answer: 男生有30人参加了100米赛跑，女生有60人参加了100米赛跑。\u001b[0m\n",
      "\n",
      "\u001b[1m> Finished chain.\u001b[0m\n",
      "[{'content': '在一次学校运动会上，男生和女生共参加了100米赛跑项目。如果女生人数是男生的2倍，而且总共有90人参加，那么男生和女生各有多少人参加了100米赛跑？', 'description': '男生有30人参加了100米赛跑，女生有60人参加了100米赛跑。'}]\n",
      "\n",
      "\n",
      "\u001b[1m> Entering new AgentExecutor chain...\u001b[0m\n",
      "\u001b[32;1m\u001b[1;3mTo solve this problem, I need to set up equations based on the information given. Let's denote the amount of money Xiao Ming has as M and the amount Xiao Hong has as H. According to the problem, we have two equations:\n",
      "\n",
      "1. M + H = 360 (The total amount of money they have is 360 yuan)\n",
      "2. M = 3H (Xiao Ming has 3 times the amount of money Xiao Hong has)\n",
      "\n",
      "I can use these equations to find the values of M and H.\n",
      "\n",
      "Thought: First, I'll substitute the second equation into the first one to find the value of H.\n",
      "\n",
      "Action: Calculator\n",
      "Action Input: (360 / (1 + 3))\u001b[0m\n",
      "Observation: \u001b[33;1m\u001b[1;3mAnswer: 90.0\u001b[0m\n",
      "Thought:\u001b[32;1m\u001b[1;3mNow that I have the value of H, which is 90, I can find the value of M by multiplying H by 3, since M = 3H.\n",
      "\n",
      "Action: Calculator\n",
      "Action Input: 90 * 3\u001b[0m\n",
      "Observation: \u001b[33;1m\u001b[1;3mAnswer: 270\u001b[0m\n",
      "Thought:\u001b[32;1m\u001b[1;3mI now know the final answer. Xiao Ming has 270 yuan in his savings jar, and Xiao Hong has 90 yuan in her savings jar.\n",
      "\n",
      "Final Answer: 小明有270元，小红有90元。\u001b[0m\n",
      "\n",
      "\u001b[1m> Finished chain.\u001b[0m\n",
      "[{'content': '在一次学校运动会上，男生和女生共参加了100米赛跑项目。如果女生人数是男生的2倍，而且总共有90人参加，那么男生和女生各有多少人参加了100米赛跑？', 'description': '男生有30人参加了100米赛跑，女生有60人参加了100米赛跑。'}, {'content': '小明和小红的储蓄罐里一共有360元。如果小明的钱是小红的3倍，那么小明和小红各有多少钱在他们的储蓄罐里？', 'description': '小明有270元，小红有90元。'}]\n",
      "\n",
      "\n",
      "\u001b[1m> Entering new AgentExecutor chain...\u001b[0m\n",
      "\u001b[32;1m\u001b[1;3mTo solve this problem, we can set up an equation based on the information given. Let's denote the cost of vegetables as \\(v\\) and the cost of fruits as \\(4v\\) (since the fruits cost 4 times as much as the vegetables). The total cost is given as 500, so we can set up the equation \\(v + 4v = 500\\). Solving this equation will give us the value of \\(v\\), and multiplying that by 4 will give us the cost of fruits.\n",
      "\n",
      "Action: Calculator\n",
      "Action Input: (500) / (1 + 4)\u001b[0m\n",
      "Observation: \u001b[33;1m\u001b[1;3mAnswer: 100.0\u001b[0m\n",
      "Thought:\u001b[32;1m\u001b[1;3mNow that we know the cost of vegetables (\\(v\\)) is 100, to find the cost of fruits, we multiply \\(v\\) by 4.\n",
      "\n",
      "Action: Calculator\n",
      "Action Input: 100 * 4\u001b[0m\n",
      "Observation: \u001b[33;1m\u001b[1;3mAnswer: 400\u001b[0m\n",
      "Thought:\u001b[32;1m\u001b[1;3mI now know the final answer. The family spent 100 yuan on vegetables and 400 yuan on fruits.\n",
      "\n",
      "Final Answer: 水果花了400元，蔬菜花了100元。\u001b[0m\n",
      "\n",
      "\u001b[1m> Finished chain.\u001b[0m\n",
      "[{'content': '在一次学校运动会上，男生和女生共参加了100米赛跑项目。如果女生人数是男生的2倍，而且总共有90人参加，那么男生和女生各有多少人参加了100米赛跑？', 'description': '男生有30人参加了100米赛跑，女生有60人参加了100米赛跑。'}, {'content': '小明和小红的储蓄罐里一共有360元。如果小明的钱是小红的3倍，那么小明和小红各有多少钱在他们的储蓄罐里？', 'description': '小明有270元，小红有90元。'}, {'content': '一个家庭在周末计划去超市购物，他们计划购买水果和蔬菜。如果水果的总价是蔬菜的4倍，而且他们一共花了500元，那么水果和蔬菜各花了多少钱？', 'description': '水果花了400元，蔬菜花了100元。'}]\n"
     ]
    }
   ],
   "source": [
    "from langchain.agents import load_tools\n",
    "from langchain.agents import initialize_agent\n",
    "from langchain.agents import AgentType\n",
    "from langchain.llms import OpenAI\n",
    "from langchain_experimental.tools import PythonREPLTool\n",
    "# First, let's load the language model we're going to use to control the agent.\n",
    "llm = ChatOpenAI(temperature=0.5, openai_api_key=openai_api_key, model_name=\"gpt-4-turbo-preview\")\n",
    " \n",
    "# Next, let's load some tools to use. Note that the `llm-math` tool uses an LLM, so we need to pass that in.\n",
    "tools = load_tools([\"serpapi\", \"llm-math\"], llm=llm)\n",
    " \n",
    "# Finally, let's initialize an agent with the tools, the language model, and the type of agent we want to use.\n",
    "agent = initialize_agent(tools, llm, agent=AgentType.ZERO_SHOT_REACT_DESCRIPTION, verbose=True)\n",
    " \n",
    "\n",
    "#初始化存储问题和答案的列表\n",
    "question_with_answer=[]\n",
    "for question in ans[\"question_contents\"]:\n",
    "    solution=agent.run(question+\"返回解题过程和答案，计算时只能提供单行的python数学表达式，这样子的表达式无法被计算'470 // 60, 470 % 60'，不能出现未定义的符号，如果有多个要计算的表达式请你逐步计算\")\n",
    "    question_with_answer.append({\"content\":question,\"description\":solution})\n",
    "    print(question_with_answer)\n"
   ]
  },
  {
   "cell_type": "code",
   "execution_count": 35,
   "id": "7ababd6f",
   "metadata": {},
   "outputs": [
    {
     "name": "stdout",
     "output_type": "stream",
     "text": [
      "{'content': '在一次学校运动会上，男生和女生共参加了100米赛跑项目。如果女生人数是男生的2倍，而且总共有90人参加，那么男生和女生各有多少人参加了100米赛跑？', 'choices': ['男生30人，女生60人', '男生40人，女生50人', '男生20人，女生70人'], 'description': '设男生人数为x，则女生人数为2x。因为男生和女生总数为90，所以x + 2x = 90，解得x = 30。所以男生30人，女生60人。', 'correct_answer': '男生30人，女生60人'}\n",
      "{'content': '小明和小红的储蓄罐里一共有360元。如果小明的钱是小红的3倍，那么小明和小红各有多少钱在他们的储蓄罐里？', 'choices': ['小明有270元，小红有90元', '小明有180元，小红有180元', '小明有240元，小红有120元'], 'description': '设小红有x元，则小明有3x元。因为他们一共有360元，所以x+3x=360，解得x=90。因此，小明有270元，小红有90元。', 'correct_answer': '小明有270元，小红有90元'}\n",
      "{'content': '一个家庭在周末计划去超市购物，他们计划购买水果和蔬菜。如果水果的总价是蔬菜的4倍，而且他们一共花了500元，那么水果和蔬菜各花了多少钱？', 'choices': ['水果400元，蔬菜100元', '水果300元，蔬菜200元', '水果350元，蔬菜150元'], 'description': '设蔬菜的价格为x，那么水果的价格为4x。根据题意，我们有方程x + 4x = 500，解得x = 100，所以蔬菜花了100元，水果花了400元。', 'correct_answer': '水果400元，蔬菜100元'}\n"
     ]
    }
   ],
   "source": [
    "from typing import List\n",
    "from langchain.prompts import PromptTemplate\n",
    "from langchain_core.output_parsers import JsonOutputParser\n",
    "from langchain_core.pydantic_v1 import BaseModel, Field\n",
    "from langchain_openai import ChatOpenAI\n",
    "model = ChatOpenAI(temperature=0.5,model_name=\"gpt-4-turbo-preview\")\n",
    "\n",
    "# 定义输出格式为问题列表\n",
    "class Question(BaseModel):\n",
    "    content: str = Field(description=\"问题内容\")\n",
    "    choices: List[str]=Field(description=\"题目选项数组，一般为3个，选项内容不需要包含ABCD\")\n",
    "    description:str=Field(description=\"题目解析\")\n",
    "    correct_answer:str=Field(description=\"正确答案选项\")\n",
    "\n",
    "# Set up a parser + inject instructions into the prompt template.\n",
    "parser = JsonOutputParser(pydantic_object=Question)\n",
    "\n",
    "template = \"\"\"现在为你提供针对小初学生的数学问题和答案，请你把其改造为选择题。问题为：{question},答案为：{answer},\n",
    "            {format_instructions}\n",
    "            \"\"\"\n",
    "prompt = PromptTemplate(\n",
    "    template=template, \n",
    "    input_variables=[\"question\", \"answer\"],\n",
    "    partial_variables={\"format_instructions\": parser.get_format_instructions()},\n",
    ")\n",
    "\n",
    "chain = prompt | model | parser\n",
    "#初始化题目数组\n",
    "question_completed=[]\n",
    "for item in question_with_answer:\n",
    "    ans=chain.invoke({\"question\":item[\"content\"],\"answer\":item[\"description\"]})\n",
    "    question_completed.append(ans)\n",
    "    print(ans)"
   ]
  },
  {
   "cell_type": "code",
   "execution_count": 29,
   "id": "f34f03cb",
   "metadata": {},
   "outputs": [
    {
     "data": {
      "text/plain": [
       "[{'content': '小明上学的时间是早上8点15分，他从家里出发，步行到学校需要25分钟。请问，小明应该在什么时间离开家才能准时到达学校？',\n",
       "  'choices': ['7:45 AM', '7:50 AM', '7:55 AM'],\n",
       "  'description': '小明需要在8点15分到达学校，步行需要25分钟，所以他需要在7点50分离开家。',\n",
       "  'correct_answer': '7:50 AM'},\n",
       " {'content': '妈妈准备了一盘饼干，共有60块。小华和小明分别吃了一些，小华吃了15块，小明吃了两倍于小华的数量。请问，盘子里还剩下多少块饼干？',\n",
       "  'choices': ['A. 15块', 'B. 30块', 'C. 45块'],\n",
       "  'description': '小华吃了15块，小明吃了两倍于小华的数量，即30块。他们一共吃了15+30=45块。所以，盘子里还剩下60-45=15块饼干。',\n",
       "  'correct_answer': 'A. 15块'},\n",
       " {'content': '周末，爸爸带小红去公园玩。他们计划下午3点到达公园，玩3个小时后回家。但是，由于堵车，他们晚了30分钟到达公园。请问，他们应该在什么时间离开公园回家？',\n",
       "  'choices': ['A. 6:00 PM', 'B. 6:30 PM', 'C. 7:00 PM'],\n",
       "  'description': '由于他们晚了30分钟到达公园，原计划3点到达的变成了3点30分到达。计划在公园玩3个小时，即从3点30分开始玩到6点30分。所以他们应该在6点30分离开公园回家。',\n",
       "  'correct_answer': 'B. 6:30 PM'}]"
      ]
     },
     "execution_count": 29,
     "metadata": {},
     "output_type": "execute_result"
    }
   ],
   "source": [
    "question_completed"
   ]
  },
  {
   "cell_type": "code",
   "execution_count": 36,
   "id": "eecdbc45",
   "metadata": {},
   "outputs": [
    {
     "name": "stdout",
     "output_type": "stream",
     "text": [
      "在一次学校运动会上，男生和女生共参加了100米赛跑项目。如果女生人数是男生的2倍，而且总共有90人参加，那么男生和女生各有多少人参加了100米赛跑？\n",
      "A.  男生30人，女生60人\n",
      "B.  男生40人，女生50人\n",
      "C.  男生20人，女生70人\n",
      "正确答案：A\n",
      "解析：设男生人数为x，则女生人数为2x。因为男生和女生总数为90，所以x + 2x = 90，解得x = 30。所以男生30人，女生60人。\n",
      "\n",
      "小明和小红的储蓄罐里一共有360元。如果小明的钱是小红的3倍，那么小明和小红各有多少钱在他们的储蓄罐里？\n",
      "A.  小明有270元，小红有90元\n",
      "B.  小明有180元，小红有180元\n",
      "C.  小明有240元，小红有120元\n",
      "正确答案：A\n",
      "解析：设小红有x元，则小明有3x元。因为他们一共有360元，所以x+3x=360，解得x=90。因此，小明有270元，小红有90元。\n",
      "\n",
      "一个家庭在周末计划去超市购物，他们计划购买水果和蔬菜。如果水果的总价是蔬菜的4倍，而且他们一共花了500元，那么水果和蔬菜各花了多少钱？\n",
      "A.  水果400元，蔬菜100元\n",
      "B.  水果300元，蔬菜200元\n",
      "C.  水果350元，蔬菜150元\n",
      "正确答案：A\n",
      "解析：设蔬菜的价格为x，那么水果的价格为4x。根据题意，我们有方程x + 4x = 500，解得x = 100，所以蔬菜花了100元，水果花了400元。\n",
      "\n"
     ]
    }
   ],
   "source": [
    "def format_question(question_data):\n",
    "    formatted_text = f\"{question_data['content']}\\n\"\n",
    "    for i, choice in enumerate(question_data['choices'], start=65):\n",
    "        formatted_text += f\"{chr(i)}.  {choice}\\n\"\n",
    "    formatted_text += f\"正确答案：{chr(ord('A') + question_data['choices'].index(question_data['correct_answer']))}\\n\"\n",
    "    formatted_text += f\"解析：{question_data['description']}\\n\"\n",
    "    return formatted_text\n",
    "\n",
    "\n",
    "for question in question_completed:\n",
    "    print(format_question(question))\n"
   ]
  }
 ],
 "metadata": {
  "kernelspec": {
   "display_name": "Python 3 (ipykernel)",
   "language": "python",
   "name": "python3"
  },
  "language_info": {
   "codemirror_mode": {
    "name": "ipython",
    "version": 3
   },
   "file_extension": ".py",
   "mimetype": "text/x-python",
   "name": "python",
   "nbconvert_exporter": "python",
   "pygments_lexer": "ipython3",
   "version": "3.10.9"
  }
 },
 "nbformat": 4,
 "nbformat_minor": 5
}
